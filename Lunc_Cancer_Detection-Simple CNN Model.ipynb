{
 "cells": [
  {
   "cell_type": "code",
   "execution_count": 2,
   "id": "4dc2047a",
   "metadata": {},
   "outputs": [],
   "source": [
    "import os, shutil"
   ]
  },
  {
   "cell_type": "markdown",
   "id": "25d5cb7d",
   "metadata": {},
   "source": [
    "### Section 1. Data Arrangement\n",
    "\n",
    "In this section, we will divide dataset into train and validation. Since, data is so small that's why we are not creating test set. \n",
    "\n",
    "#### Note: If your data is already arranged in train and validation sets, you can jump to section 2 of this notebook."
   ]
  },
  {
   "cell_type": "code",
   "execution_count": 3,
   "id": "958deaff",
   "metadata": {},
   "outputs": [],
   "source": [
    "# origianl path to dataset\n",
    "original_dir = r'C:\\Users\\Hamza\\Downloads\\Machine Learning Projects\\Lungs Cancer Detection Using CNN\\lung_cancer_dataset'"
   ]
  },
  {
   "cell_type": "code",
   "execution_count": null,
   "id": "4b67cd44",
   "metadata": {},
   "outputs": [],
   "source": [
    "# making a new folder inside original directory\n",
    "base_dir = os.path.join(original_dir, 'splitted_data')\n",
    "os.mkdir(base_dir)"
   ]
  },
  {
   "cell_type": "code",
   "execution_count": 8,
   "id": "de520503",
   "metadata": {},
   "outputs": [],
   "source": [
    "#creating train and validation directories inside \"splitted data\" folder\n",
    "\n",
    "train_dir = os.path.join(base_dir, 'train')\n",
    "os.mkdir(train_dir)\n",
    "\n",
    "validation_dir = os.path.join(base_dir, 'validati2on')\n",
    "os.mkdir(validation_dir)"
   ]
  },
  {
   "cell_type": "code",
   "execution_count": 11,
   "id": "f9544f5b",
   "metadata": {},
   "outputs": [],
   "source": [
    "# creating positive and negative folders inside train and validation folders.\n",
    "\n",
    "train_positive_dir = os.path.join(train_dir, 'positive')\n",
    "os.mkdir(train_positive_dir)\n",
    "\n",
    "train_negative_dir = os.path.join(train_dir, 'negative')\n",
    "os.mkdir(train_negative_dir)\n",
    "\n",
    "validation_positive_dir = os.path.join(validation_dir, 'positive')\n",
    "os.mkdir(validation_positive_dir)\n",
    "\n",
    "validation_negative_dir = os.path.join(validation_dir, 'negative')\n",
    "os.mkdir(validation_negative_dir)"
   ]
  },
  {
   "cell_type": "code",
   "execution_count": 3,
   "id": "ea251ee3",
   "metadata": {},
   "outputs": [],
   "source": [
    "# To rename the images, I created two new folders named as 'positive_imgs' and 'negative_imgs' and copied them after chaning images names\n",
    "old_pos_dir = r'C:\\Users\\Hamza\\Downloads\\Machine Learning Projects\\Lungs Cancer Detection Using CNN\\lung_cancer_dataset\\positive'\n",
    "new_pos_dir = r'C:\\Users\\Hamza\\Downloads\\Machine Learning Projects\\Lungs Cancer Detection Using CNN\\lung_cancer_dataset\\positive_imgs'\n",
    "\n",
    "old_neg_dir = r'C:\\Users\\Hamza\\Downloads\\Machine Learning Projects\\Lungs Cancer Detection Using CNN\\lung_cancer_dataset\\nagative'\n",
    "new_neg_dir = r'C:\\Users\\Hamza\\Downloads\\Machine Learning Projects\\Lungs Cancer Detection Using CNN\\lung_cancer_dataset\\negative_imgs'"
   ]
  },
  {
   "cell_type": "code",
   "execution_count": 14,
   "id": "22d971d1",
   "metadata": {},
   "outputs": [],
   "source": [
    "#renaming the images names\n",
    "\n",
    "\n",
    "file_list = os.listdir(old_pos_dir)\n",
    "\n",
    "for index, fname in enumerate(file_list): \n",
    "    new_filename = f'positive_{index+1}.jpeg'\n",
    "\n",
    "    old_dir_path = os.path.join(old_pos_dir, fname)\n",
    "    new_dir_path_2 = os.path.join(new_pos_dir, new_filename)\n",
    "\n",
    "    os.rename(old_dir_path, new_dir_path_2)"
   ]
  },
  {
   "cell_type": "code",
   "execution_count": 15,
   "id": "d70ac8ed",
   "metadata": {},
   "outputs": [],
   "source": [
    "#renaming the images \n",
    "file_list = os.listdir(old_neg_dir)\n",
    "\n",
    "for index, fname in enumerate(file_list): \n",
    "    new_filename = f'negative_{index+1}.jpeg'\n",
    "\n",
    "    old_dir_path = os.path.join(old_neg_dir, fname)\n",
    "    new_dir_path_2 = os.path.join(new_neg_dir, new_filename)\n",
    "\n",
    "    os.rename(old_dir_path, new_dir_path_2)"
   ]
  },
  {
   "cell_type": "code",
   "execution_count": 19,
   "id": "fe121497",
   "metadata": {},
   "outputs": [],
   "source": [
    "#copying negative images to train folder\n",
    "\n",
    "fnames = ['negative_{}.jpeg'.format(i+1) for i in range(240)]\n",
    "\n",
    "for fname in fnames:\n",
    "    src_dir = os.path.join(new_neg_dir, fname)\n",
    "    dst_dir = os.path.join(train_negative_dir, fname)\n",
    "    shutil.copyfile(src_dir, dst_dir)\n",
    "    "
   ]
  },
  {
   "cell_type": "code",
   "execution_count": 20,
   "id": "f6d093ac",
   "metadata": {},
   "outputs": [],
   "source": [
    "#copying negative images to validation folder\n",
    "\n",
    "fnames = ['negative_{}.jpeg'.format(i+1) for i in range(240, 300)]\n",
    "\n",
    "for fname in fnames:\n",
    "    src_dir = os.path.join(new_neg_dir, fname)\n",
    "    dst_dir = os.path.join(validation_negative_dir, fname)\n",
    "    shutil.copyfile(src_dir, dst_dir)"
   ]
  },
  {
   "cell_type": "code",
   "execution_count": 21,
   "id": "7c4a6e85",
   "metadata": {},
   "outputs": [],
   "source": [
    "#copying positive images to train \n",
    "\n",
    "fnames = ['positive_{}.jpeg'.format(i+1) for i in range(188)]\n",
    "\n",
    "for fname in fnames:\n",
    "    src_dir = os.path.join(new_pos_dir, fname)\n",
    "    dst_dir = os.path.join(train_positive_dir, fname)\n",
    "    shutil.copyfile(src_dir, dst_dir)"
   ]
  },
  {
   "cell_type": "code",
   "execution_count": 23,
   "id": "e24055a0",
   "metadata": {},
   "outputs": [],
   "source": [
    "#copying positive images to validation folder\n",
    "fnames = ['positive_{}.jpeg'.format(i+1) for i in range(188, 234)]\n",
    "\n",
    "for fname in fnames:\n",
    "    src_dir = os.path.join(new_pos_dir, fname)\n",
    "    dst_dir = os.path.join(validation_positive_dir, fname)\n",
    "    shutil.copyfile(src_dir, dst_dir)"
   ]
  },
  {
   "cell_type": "markdown",
   "id": "6b9ccd4a",
   "metadata": {},
   "source": [
    "### Section 2. Model Building\n",
    "We are using CNN for images pattern recoginition and Dense networks for classfication. "
   ]
  },
  {
   "cell_type": "code",
   "execution_count": 99,
   "id": "e9863708",
   "metadata": {},
   "outputs": [],
   "source": [
    "# building the network\n",
    "\n",
    "from keras import layers\n",
    "from keras import models\n",
    "\n",
    "model = models.Sequential()\n",
    "model.add(layers.Conv2D(32, (3, 3), activation='relu',input_shape=(250, 250, 3)))\n",
    "model.add(layers.MaxPooling2D((2, 2)))\n",
    "model.add(layers.Conv2D(64, (3, 3), activation='relu'))\n",
    "model.add(layers.MaxPooling2D((2, 2)))\n",
    "model.add(layers.Conv2D(128, (3, 3), activation='relu'))\n",
    "model.add(layers.MaxPooling2D((2, 2)))\n",
    "model.add(layers.Conv2D(128, (3, 3), activation='relu'))\n",
    "model.add(layers.MaxPooling2D((2, 2)))\n",
    "model.add(layers.Conv2D(128, (3, 3), activation='relu'))\n",
    "model.add(layers.MaxPooling2D((2, 2)))\n",
    "model.add(layers.Flatten())\n",
    "model.add(layers.Dropout(0.5))\n",
    "model.add(layers.Dense(512,activation='relu'))\n",
    "model.add(layers.Dense(1, activation='sigmoid'))"
   ]
  },
  {
   "cell_type": "code",
   "execution_count": 100,
   "id": "2284f5e3",
   "metadata": {},
   "outputs": [
    {
     "name": "stdout",
     "output_type": "stream",
     "text": [
      "Model: \"sequential_13\"\n",
      "_________________________________________________________________\n",
      " Layer (type)                Output Shape              Param #   \n",
      "=================================================================\n",
      " conv2d_53 (Conv2D)          (None, 248, 248, 32)      896       \n",
      "                                                                 \n",
      " max_pooling2d_53 (MaxPoolin  (None, 124, 124, 32)     0         \n",
      " g2D)                                                            \n",
      "                                                                 \n",
      " conv2d_54 (Conv2D)          (None, 122, 122, 64)      18496     \n",
      "                                                                 \n",
      " max_pooling2d_54 (MaxPoolin  (None, 61, 61, 64)       0         \n",
      " g2D)                                                            \n",
      "                                                                 \n",
      " conv2d_55 (Conv2D)          (None, 59, 59, 128)       73856     \n",
      "                                                                 \n",
      " max_pooling2d_55 (MaxPoolin  (None, 29, 29, 128)      0         \n",
      " g2D)                                                            \n",
      "                                                                 \n",
      " conv2d_56 (Conv2D)          (None, 27, 27, 128)       147584    \n",
      "                                                                 \n",
      " max_pooling2d_56 (MaxPoolin  (None, 13, 13, 128)      0         \n",
      " g2D)                                                            \n",
      "                                                                 \n",
      " conv2d_57 (Conv2D)          (None, 11, 11, 128)       147584    \n",
      "                                                                 \n",
      " max_pooling2d_57 (MaxPoolin  (None, 5, 5, 128)        0         \n",
      " g2D)                                                            \n",
      "                                                                 \n",
      " flatten_12 (Flatten)        (None, 3200)              0         \n",
      "                                                                 \n",
      " dropout_11 (Dropout)        (None, 3200)              0         \n",
      "                                                                 \n",
      " dense_24 (Dense)            (None, 512)               1638912   \n",
      "                                                                 \n",
      " dense_25 (Dense)            (None, 1)                 513       \n",
      "                                                                 \n",
      "=================================================================\n",
      "Total params: 2,027,841\n",
      "Trainable params: 2,027,841\n",
      "Non-trainable params: 0\n",
      "_________________________________________________________________\n"
     ]
    }
   ],
   "source": [
    "model.summary()"
   ]
  },
  {
   "cell_type": "code",
   "execution_count": 101,
   "id": "7ba886f3",
   "metadata": {},
   "outputs": [],
   "source": [
    "# model compilation\n",
    "\n",
    "from keras import optimizers\n",
    "model.compile(loss='binary_crossentropy',\n",
    "              optimizer='adam',\n",
    "              metrics=['acc'])\n",
    "\n",
    "# optimizers.RMSprop(learning_rate=1e-4)"
   ]
  },
  {
   "cell_type": "markdown",
   "id": "27ff07d4",
   "metadata": {},
   "source": [
    "### Accessing Train and Validation data through generators"
   ]
  },
  {
   "cell_type": "code",
   "execution_count": 102,
   "id": "4235ee36",
   "metadata": {},
   "outputs": [
    {
     "name": "stdout",
     "output_type": "stream",
     "text": [
      "Found 428 images belonging to 2 classes.\n",
      "Found 106 images belonging to 2 classes.\n"
     ]
    }
   ],
   "source": [
    "# accessing the data from train and validation folders using generators\n",
    "\n",
    "\n",
    "from keras.preprocessing.image import ImageDataGenerator\n",
    "\n",
    "#using data augmentation to artificially produce similar x-ray images\n",
    "train_datagen = ImageDataGenerator(rescale=1./255) \n",
    "\n",
    "\n",
    "test_datagen = ImageDataGenerator(rescale=1./255)\n",
    "\n",
    "train_generator = train_datagen.flow_from_directory(\n",
    "    r'C:\\Users\\Hamza\\Downloads\\Machine Learning Projects\\Lungs Cancer Detection Using CNN\\lung_cancer_dataset\\splitted_data\\train',\n",
    "    target_size=(250, 250),\n",
    "    batch_size=32,\n",
    "    class_mode='binary')\n",
    "\n",
    "test_generator = test_datagen.flow_from_directory(\n",
    "    r'C:\\Users\\Hamza\\Downloads\\Machine Learning Projects\\Lungs Cancer Detection Using CNN\\lung_cancer_dataset\\splitted_data\\validation',\n",
    "    target_size=(250, 250),\n",
    "    batch_size=32,\n",
    "    class_mode='binary', \n",
    "    shuffle=False )\n"
   ]
  },
  {
   "cell_type": "code",
   "execution_count": 107,
   "id": "9fb1470d",
   "metadata": {},
   "outputs": [
    {
     "data": {
      "text/plain": [
       "{'negative': 0, 'positive': 1}"
      ]
     },
     "execution_count": 107,
     "metadata": {},
     "output_type": "execute_result"
    }
   ],
   "source": [
    "train_generator.class_indices"
   ]
  },
  {
   "cell_type": "code",
   "execution_count": 72,
   "id": "c2ba96cc",
   "metadata": {},
   "outputs": [],
   "source": [
    "######################################## Please ignore this code.##########################################################\n",
    "\n",
    "\n",
    "# import matplotlib.pyplot as plt\n",
    "# import numpy as np\n",
    "# from tensorflow.keras.preprocessing import image\n",
    "\n",
    "\n",
    "# # Load a sample image (replace with your own image)\n",
    "# img_path = r'C:\\Users\\Hamza\\Downloads\\Machine Learning Projects\\Lungs Cancer Detection Using CNN\\lung_cancer_dataset\\splitted_data\\train\\positive\\positive_92.jpeg'  # Replace with the path to your image\n",
    "# img = image.load_img(img_path, target_size=(150, 150))  # Adjust target size as needed\n",
    "# x = image.img_to_array(img)\n",
    "# x = np.expand_dims(x, axis=0)\n",
    "\n",
    "# # Generate augmented images and display them\n",
    "# plt.figure(figsize=(10, 10))\n",
    "\n",
    "# for i, batch in enumerate(train_datagen.flow(x, batch_size=1)):\n",
    "#     plt.subplot(3, 3, i + 1)\n",
    "#     plt.imshow(image.array_to_img(batch[0]))\n",
    "#     plt.axis('off')\n",
    "\n",
    "#     if i == 8:  # Generate and display 9 augmented images\n",
    "#         break\n",
    "\n",
    "# plt.show()\n"
   ]
  },
  {
   "cell_type": "code",
   "execution_count": 104,
   "id": "a9d148ca",
   "metadata": {
    "scrolled": false
   },
   "outputs": [
    {
     "name": "stdout",
     "output_type": "stream",
     "text": [
      "Epoch 1/20\n",
      "14/14 [==============================] - 38s 3s/step - loss: 0.6932 - acc: 0.5421 - val_loss: 0.6806 - val_acc: 0.5660\n",
      "Epoch 2/20\n",
      "14/14 [==============================] - 39s 3s/step - loss: 0.6705 - acc: 0.6308 - val_loss: 0.5192 - val_acc: 0.8302\n",
      "Epoch 3/20\n",
      "14/14 [==============================] - 37s 3s/step - loss: 0.5972 - acc: 0.7196 - val_loss: 0.4675 - val_acc: 0.8679\n",
      "Epoch 4/20\n",
      "14/14 [==============================] - 37s 3s/step - loss: 0.4490 - acc: 0.8061 - val_loss: 0.2908 - val_acc: 0.8962\n",
      "Epoch 5/20\n",
      "14/14 [==============================] - 39s 3s/step - loss: 0.3686 - acc: 0.8248 - val_loss: 0.2611 - val_acc: 0.8868\n",
      "Epoch 6/20\n",
      "14/14 [==============================] - 34s 2s/step - loss: 0.3030 - acc: 0.8832 - val_loss: 0.2238 - val_acc: 0.9151\n",
      "Epoch 7/20\n",
      "14/14 [==============================] - 34s 2s/step - loss: 0.3132 - acc: 0.8808 - val_loss: 0.2547 - val_acc: 0.8774\n",
      "Epoch 8/20\n",
      "14/14 [==============================] - 34s 2s/step - loss: 0.2441 - acc: 0.8902 - val_loss: 0.3797 - val_acc: 0.8396\n",
      "Epoch 9/20\n",
      "14/14 [==============================] - 33s 2s/step - loss: 0.2359 - acc: 0.8925 - val_loss: 0.2300 - val_acc: 0.8962\n",
      "Epoch 10/20\n",
      "14/14 [==============================] - 33s 2s/step - loss: 0.2062 - acc: 0.9182 - val_loss: 0.3787 - val_acc: 0.8302\n",
      "Epoch 11/20\n",
      "14/14 [==============================] - 33s 2s/step - loss: 0.2073 - acc: 0.9159 - val_loss: 0.1794 - val_acc: 0.9340\n",
      "Epoch 12/20\n",
      "14/14 [==============================] - 34s 2s/step - loss: 0.1705 - acc: 0.9299 - val_loss: 0.2204 - val_acc: 0.9151\n",
      "Epoch 13/20\n",
      "14/14 [==============================] - 33s 2s/step - loss: 0.1250 - acc: 0.9463 - val_loss: 0.2448 - val_acc: 0.8962\n",
      "Epoch 14/20\n",
      "14/14 [==============================] - 36s 3s/step - loss: 0.1194 - acc: 0.9486 - val_loss: 0.2086 - val_acc: 0.9245\n",
      "Epoch 15/20\n",
      "14/14 [==============================] - 35s 2s/step - loss: 0.0878 - acc: 0.9720 - val_loss: 0.2369 - val_acc: 0.9245\n",
      "Epoch 16/20\n",
      "14/14 [==============================] - 33s 2s/step - loss: 0.1095 - acc: 0.9579 - val_loss: 0.5298 - val_acc: 0.7830\n",
      "Epoch 17/20\n",
      "14/14 [==============================] - 33s 2s/step - loss: 0.1088 - acc: 0.9696 - val_loss: 0.2775 - val_acc: 0.9340\n",
      "Epoch 18/20\n",
      "14/14 [==============================] - 33s 2s/step - loss: 0.1469 - acc: 0.9486 - val_loss: 0.6299 - val_acc: 0.8113\n",
      "Epoch 19/20\n",
      "14/14 [==============================] - 33s 2s/step - loss: 0.1215 - acc: 0.9650 - val_loss: 0.4751 - val_acc: 0.8774\n",
      "Epoch 20/20\n",
      "14/14 [==============================] - 33s 2s/step - loss: 0.0547 - acc: 0.9743 - val_loss: 0.3443 - val_acc: 0.8868\n"
     ]
    }
   ],
   "source": [
    "# fitting the model\n",
    "#using adam \n",
    "\n",
    "history = model.fit(train_generator, epochs=20, validation_data=test_generator)"
   ]
  },
  {
   "cell_type": "markdown",
   "id": "0b49b614",
   "metadata": {},
   "source": [
    "### Saving the model for later use"
   ]
  },
  {
   "cell_type": "code",
   "execution_count": 105,
   "id": "926c2dba",
   "metadata": {},
   "outputs": [],
   "source": [
    "#saving the model\n",
    "model.save('lungs_cancer_detector_using_Adam.h5')"
   ]
  },
  {
   "cell_type": "markdown",
   "id": "4c3a4e35",
   "metadata": {},
   "source": [
    "### Plotting the graph of accuracy, validation accuracy and loss, validation loss over the 20 epochs"
   ]
  },
  {
   "cell_type": "code",
   "execution_count": 106,
   "id": "d93454cf",
   "metadata": {
    "scrolled": true
   },
   "outputs": [
    {
     "data": {
      "image/png": "[encoded data removed]",
      "text/plain": [
       "<Figure size 640x480 with 1 Axes>"
      ]
     },
     "metadata": {},
     "output_type": "display_data"
    },
    {
     "data": {
      "image/png": "[encoded data removed]",
      "text/plain": [
       "<Figure size 640x480 with 1 Axes>"
      ]
     },
     "metadata": {},
     "output_type": "display_data"
    }
   ],
   "source": [
    "# plotting the accuracy, validation accuracy and loss, validation loss over the 20 epochs\n",
    "\n",
    "import matplotlib.pyplot as plt\n",
    "acc = history.history['acc']\n",
    "val_acc = history.history['val_acc']\n",
    "loss = history.history['loss']\n",
    "val_loss = history.history['val_loss']\n",
    "epochs = range(1, len(acc) + 1)\n",
    "plt.plot(epochs, acc, 'bo', label='Training acc')\n",
    "plt.plot(epochs, val_acc, 'b', label='Validation acc')\n",
    "plt.title('Training and validation accuracy')\n",
    "plt.legend()\n",
    "plt.figure()\n",
    "plt.plot(epochs, loss, 'bo', label='Training loss')\n",
    "plt.plot(epochs, val_loss, 'b', label='Validation loss')\n",
    "plt.title('Training and validation loss')\n",
    "plt.legend()\n",
    "plt.show()"
   ]
  },
  {
   "cell_type": "markdown",
   "id": "f8c404ad",
   "metadata": {},
   "source": [
    "### Testing the model on a single image"
   ]
  },
  {
   "cell_type": "code",
   "execution_count": 126,
   "id": "38c87b0b",
   "metadata": {},
   "outputs": [],
   "source": [
    "# checking for a single image prediction\n",
    "\n",
    "from tensorflow.keras.preprocessing import image\n",
    "import numpy as np\n",
    "\n",
    "#preprocesses the image(make it ready in the desired form)\n",
    "def preprocess_image(img_path):\n",
    "    img = image.load_img(img_path, target_size=(250, 250))\n",
    "    img = image.img_to_array(img)\n",
    "    img = np.expand_dims(img, axis=0)\n",
    "    img = img/255.0\n",
    "    return img"
   ]
  },
  {
   "cell_type": "code",
   "execution_count": 159,
   "id": "5658e678",
   "metadata": {},
   "outputs": [
    {
     "name": "stdout",
     "output_type": "stream",
     "text": [
      "1/1 [==============================] - 0s 308ms/step\n",
      "Normal\n"
     ]
    }
   ],
   "source": [
    "img_path = r\"C:\\Users\\Hamza\\Downloads\\Machine Learning Projects\\Lungs Cancer Detection Using CNN\\lung_cancer_dataset\\splitted_data\\validation\\negative\\negative_245.jpeg\"\n",
    "img = preprocess_image(img_path)\n",
    "prediction = model.predict(img)\n",
    "if prediction>= 0.5:\n",
    "    print('Lung Cancer, confidence score', prediction)\n",
    "else: \n",
    "    print('Normal')"
   ]
  },
  {
   "cell_type": "code",
   "execution_count": 95,
   "id": "cbfb51e8",
   "metadata": {},
   "outputs": [],
   "source": [
    "import tensorflow as tf\n",
    "\n",
    "# Load the saved model\n",
    "model = tf.keras.models.load_model('lungs_cancer_detector.h5')"
   ]
  },
  {
   "cell_type": "code",
   "execution_count": 129,
   "id": "edc3ba2e",
   "metadata": {},
   "outputs": [
    {
     "name": "stdout",
     "output_type": "stream",
     "text": [
      "4/4 [==============================] - 3s 559ms/step\n"
     ]
    }
   ],
   "source": [
    "# generating the classification report \n",
    "\n",
    "# predictions on test data\n",
    "predictions = model.predict(test_generator)"
   ]
  },
  {
   "cell_type": "code",
   "execution_count": 131,
   "id": "91787c1a",
   "metadata": {},
   "outputs": [
    {
     "data": {
      "text/plain": [
       "(106, 1)"
      ]
     },
     "execution_count": 131,
     "metadata": {},
     "output_type": "execute_result"
    }
   ],
   "source": [
    "predictions.shape"
   ]
  },
  {
   "cell_type": "code",
   "execution_count": 133,
   "id": "d153a734",
   "metadata": {},
   "outputs": [
    {
     "data": {
      "text/plain": [
       "{'negative': 0, 'positive': 1}"
      ]
     },
     "execution_count": 133,
     "metadata": {},
     "output_type": "execute_result"
    }
   ],
   "source": [
    "test_generator.class_indices"
   ]
  },
  {
   "cell_type": "code",
   "execution_count": 134,
   "id": "eab4432b",
   "metadata": {},
   "outputs": [
    {
     "name": "stdout",
     "output_type": "stream",
     "text": [
      "              precision    recall  f1-score   support\n",
      "\n",
      "           0       0.86      0.95      0.90        60\n",
      "           1       0.93      0.80      0.86        46\n",
      "\n",
      "    accuracy                           0.89       106\n",
      "   macro avg       0.89      0.88      0.88       106\n",
      "weighted avg       0.89      0.89      0.89       106\n",
      "\n"
     ]
    }
   ],
   "source": [
    "# classification report\n",
    "\n",
    "from sklearn.metrics import classification_report\n",
    "\n",
    "true_labels = test_generator.classes \n",
    "\n",
    "binary_predictions = (predictions >= 0.5).astype(int)\n",
    "\n",
    "report = classification_report(true_labels, binary_predictions)\n",
    "print(report)"
   ]
  },
  {
   "cell_type": "code",
   "execution_count": 139,
   "id": "ab697d0d",
   "metadata": {},
   "outputs": [
    {
     "data": {
      "text/plain": [
       "array([0, 0, 0, 0, 0, 0, 0, 0, 0, 0, 0, 0, 0, 0, 0, 0, 0, 0, 0, 0, 0, 0,\n",
       "       0, 0, 0, 0, 0, 0, 0, 0, 0, 0, 0, 0, 0, 0, 0, 0, 0, 0, 0, 0, 0, 0,\n",
       "       0, 0, 0, 0, 0, 0, 0, 0, 0, 0, 0, 0, 0, 0, 0, 0, 1, 1, 1, 1, 1, 1,\n",
       "       1, 1, 1, 1, 1, 1, 1, 1, 1, 1, 1, 1, 1, 1, 1, 1, 1, 1, 1, 1, 1, 1,\n",
       "       1, 1, 1, 1, 1, 1, 1, 1, 1, 1, 1, 1, 1, 1, 1, 1, 1, 1])"
      ]
     },
     "execution_count": 139,
     "metadata": {},
     "output_type": "execute_result"
    }
   ],
   "source": [
    "validation_generator.classes"
   ]
  },
  {
   "cell_type": "code",
   "execution_count": 137,
   "id": "40558189",
   "metadata": {},
   "outputs": [
    {
     "name": "stdout",
     "output_type": "stream",
     "text": [
      "Class labels assigned by the generator: {'negative': 0, 'positive': 1}\n"
     ]
    }
   ],
   "source": [
    "print(\"Class labels assigned by the generator:\", test_generator.class_indices)\n"
   ]
  },
  {
   "cell_type": "code",
   "execution_count": 148,
   "id": "b22151e1",
   "metadata": {},
   "outputs": [
    {
     "name": "stdout",
     "output_type": "stream",
     "text": [
      "Confusion Matrix:\n",
      "[[57  3]\n",
      " [ 9 37]]\n"
     ]
    }
   ],
   "source": [
    "# Calculate the confusion matrix\n",
    "\n",
    "from sklearn.metrics import confusion_matrix\n",
    "cm = confusion_matrix(true_labels, binary_predictions)\n",
    "\n",
    "# Print the confusion matrix\n",
    "print(\"Confusion Matrix:\")\n",
    "print(cm)\n"
   ]
  },
  {
   "cell_type": "code",
   "execution_count": 156,
   "id": "3cbb9a10",
   "metadata": {},
   "outputs": [
    {
     "name": "stdout",
     "output_type": "stream",
     "text": [
      "F1_score is:  0.8604651162790697\n"
     ]
    }
   ],
   "source": [
    "from sklearn.metrics import f1_score\n",
    "\n",
    "f1 = f1_score(true_labels, binary_predictions)\n",
    "\n",
    "print('F1_score is: ', f1)"
   ]
  },
  {
   "cell_type": "code",
   "execution_count": 158,
   "id": "7c17535c",
   "metadata": {},
   "outputs": [
    {
     "name": "stdout",
     "output_type": "stream",
     "text": [
      "Accuracy: 0.8867924528301887\n",
      "Precision: 0.925\n",
      "Recall: 0.8043478260869565\n",
      "F1 Score: 0.8604651162790697\n"
     ]
    }
   ],
   "source": [
    "from sklearn.metrics import accuracy_score, precision_score, recall_score, f1_score, confusion_matrix\n",
    "\n",
    "# Define the confusion matrix\n",
    "confusion_matrix = [[57, 3], [9, 37]]\n",
    "\n",
    "# Extract TP, TN, FP, FN from the confusion matrix\n",
    "TN, FP, FN, TP = confusion_matrix[0][0], confusion_matrix[0][1], confusion_matrix[1][0], confusion_matrix[1][1]\n",
    "\n",
    "# Calculate Accuracy\n",
    "accuracy = accuracy_score(true_labels, binary_predictions)\n",
    "\n",
    "# Calculate Precision\n",
    "precision = precision_score(true_labels, binary_predictions)\n",
    "\n",
    "# Calculate Recall (Sensitivity)\n",
    "recall = recall_score(true_labels, binary_predictions)\n",
    "\n",
    "# Calculate F1 Score\n",
    "f1 = f1_score(true_labels, binary_predictions)\n",
    "\n",
    "# Print the metrics\n",
    "print(f\"Accuracy: {accuracy}\")\n",
    "print(f\"Precision: {precision}\")\n",
    "print(f\"Recall: {recall}\")\n",
    "print(f\"F1 Score: {f1}\")\n"
   ]
  },
  {
   "cell_type": "code",
   "execution_count": null,
   "id": "ba1726b1",
   "metadata": {},
   "outputs": [],
   "source": []
  },
  {
   "cell_type": "code",
   "execution_count": null,
   "id": "6ffd34f8",
   "metadata": {},
   "outputs": [],
   "source": []
  },
  {
   "cell_type": "code",
   "execution_count": null,
   "id": "19b97e7c",
   "metadata": {},
   "outputs": [],
   "source": []
  },
  {
   "cell_type": "code",
   "execution_count": null,
   "id": "c14c74e8",
   "metadata": {},
   "outputs": [],
   "source": []
  },
  {
   "cell_type": "code",
   "execution_count": null,
   "id": "dccb50c4",
   "metadata": {},
   "outputs": [],
   "source": []
  },
  {
   "cell_type": "code",
   "execution_count": null,
   "id": "220684de",
   "metadata": {},
   "outputs": [],
   "source": []
  },
  {
   "cell_type": "code",
   "execution_count": null,
   "id": "880e7e08",
   "metadata": {},
   "outputs": [],
   "source": []
  },
  {
   "cell_type": "code",
   "execution_count": null,
   "id": "66fa11ec",
   "metadata": {},
   "outputs": [],
   "source": []
  },
  {
   "cell_type": "code",
   "execution_count": null,
   "id": "763c0368",
   "metadata": {},
   "outputs": [],
   "source": []
  },
  {
   "cell_type": "code",
   "execution_count": null,
   "id": "db316b7b",
   "metadata": {},
   "outputs": [],
   "source": []
  },
  {
   "cell_type": "code",
   "execution_count": null,
   "id": "aa01f7aa",
   "metadata": {},
   "outputs": [],
   "source": []
  },
  {
   "cell_type": "code",
   "execution_count": null,
   "id": "4416d96c",
   "metadata": {},
   "outputs": [],
   "source": []
  },
  {
   "cell_type": "code",
   "execution_count": null,
   "id": "71b49a20",
   "metadata": {},
   "outputs": [],
   "source": []
  },
  {
   "cell_type": "code",
   "execution_count": null,
   "id": "6ccdc886",
   "metadata": {},
   "outputs": [],
   "source": []
  },
  {
   "cell_type": "code",
   "execution_count": null,
   "id": "2f45bf41",
   "metadata": {},
   "outputs": [],
   "source": []
  },
  {
   "cell_type": "code",
   "execution_count": null,
   "id": "4d9788b0",
   "metadata": {},
   "outputs": [],
   "source": []
  },
  {
   "cell_type": "code",
   "execution_count": null,
   "id": "a29b8b78",
   "metadata": {},
   "outputs": [],
   "source": []
  },
  {
   "cell_type": "code",
   "execution_count": null,
   "id": "275bb42e",
   "metadata": {},
   "outputs": [],
   "source": []
  },
  {
   "cell_type": "code",
   "execution_count": null,
   "id": "a9a209b6",
   "metadata": {},
   "outputs": [],
   "source": []
  },
  {
   "cell_type": "code",
   "execution_count": null,
   "id": "06da36be",
   "metadata": {},
   "outputs": [],
   "source": []
  },
  {
   "cell_type": "code",
   "execution_count": null,
   "id": "5f759476",
   "metadata": {},
   "outputs": [],
   "source": []
  },
  {
   "cell_type": "code",
   "execution_count": null,
   "id": "941e7505",
   "metadata": {},
   "outputs": [],
   "source": []
  },
  {
   "cell_type": "code",
   "execution_count": null,
   "id": "8d86c76b",
   "metadata": {},
   "outputs": [],
   "source": []
  },
  {
   "cell_type": "code",
   "execution_count": null,
   "id": "066b0216",
   "metadata": {},
   "outputs": [],
   "source": []
  },
  {
   "cell_type": "code",
   "execution_count": null,
   "id": "bb5665e9",
   "metadata": {},
   "outputs": [],
   "source": []
  },
  {
   "cell_type": "code",
   "execution_count": null,
   "id": "606e5c0d",
   "metadata": {},
   "outputs": [],
   "source": []
  },
  {
   "cell_type": "code",
   "execution_count": null,
   "id": "23833e0a",
   "metadata": {},
   "outputs": [],
   "source": []
  },
  {
   "cell_type": "code",
   "execution_count": null,
   "id": "a34d4971",
   "metadata": {},
   "outputs": [],
   "source": []
  },
  {
   "cell_type": "code",
   "execution_count": null,
   "id": "09cfbc9d",
   "metadata": {},
   "outputs": [],
   "source": []
  },
  {
   "cell_type": "code",
   "execution_count": null,
   "id": "246e7185",
   "metadata": {},
   "outputs": [],
   "source": []
  },
  {
   "cell_type": "code",
   "execution_count": null,
   "id": "605d7e37",
   "metadata": {},
   "outputs": [],
   "source": []
  },
  {
   "cell_type": "code",
   "execution_count": null,
   "id": "80798269",
   "metadata": {},
   "outputs": [],
   "source": []
  }
 ],
 "metadata": {
  "kernelspec": {
   "display_name": "Python 3 (ipykernel)",
   "language": "python",
   "name": "python3"
  },
  "language_info": {
   "codemirror_mode": {
    "name": "ipython",
    "version": 3
   },
   "file_extension": ".py",
   "mimetype": "text/x-python",
   "name": "python",
   "nbconvert_exporter": "python",
   "pygments_lexer": "ipython3",
   "version": "3.9.13"
  }
 },
 "nbformat": 4,
 "nbformat_minor": 5
}
